{
 "cells": [
  {
   "cell_type": "markdown",
   "metadata": {},
   "source": [
    "<img src=\"https://bit.ly/2VnXWr2\" width=\"100\" align=\"left\">"
   ]
  },
  {
   "cell_type": "markdown",
   "metadata": {},
   "source": [
    "# Rock, Paper & Scissors\n",
    "\n",
    "Let's play the famous game against our computer. You can check the rules [here](https://en.wikipedia.org/wiki/Rock%E2%80%93paper%E2%80%93scissors). \n",
    "\n",
    "## Task\n",
    "Create a program that imitates the playability of the well known game of rock, paper, scissors. Follow the guidelines provided.\n",
    "\n",
    "## Tools\n",
    "1. Loop: **for/while**\n",
    "2. Functions: **input(), print()...**\n",
    "3. Conditional statements: **if, elif, else**\n",
    "4. Definition of functions. Modular programming\n",
    "5. Import modules\n",
    "\n",
    "**To solve this challenge, the use of functions is recommended.**\n",
    "\n",
    "#### 1. Import the choice function of the random module."
   ]
  },
  {
   "cell_type": "code",
   "execution_count": 1,
   "metadata": {},
   "outputs": [],
   "source": [
    "import random"
   ]
  },
  {
   "cell_type": "markdown",
   "metadata": {},
   "source": [
    "#### 2. Create a list that includes the 3 possible gesture options of the game: 'rock', 'paper' or 'scissors'. Store the list in a variable called `gestures`."
   ]
  },
  {
   "cell_type": "code",
   "execution_count": 5,
   "metadata": {},
   "outputs": [],
   "source": [
    "options = ['stone', 'paper', 'scissors']"
   ]
  },
  {
   "cell_type": "markdown",
   "metadata": {},
   "source": [
    "#### 3. Create a variable called `n_rounds` to store the maximum number of rounds to play in a game. \n",
    "Remember that the number of rounds must be odd: 1, 3, 5, ..."
   ]
  },
  {
   "cell_type": "code",
   "execution_count": 4,
   "metadata": {},
   "outputs": [],
   "source": [
    "max_games = 3"
   ]
  },
  {
   "cell_type": "markdown",
   "metadata": {},
   "source": [
    "#### 4. Create a variable called `rounds_to_win` to store the number of rounds that a player must win to win the game.\n",
    "**Hint**: the value stored in `rounds_to_win` depends on the value of `n_rounds`. "
   ]
  },
  {
   "cell_type": "code",
   "execution_count": 3,
   "metadata": {},
   "outputs": [],
   "source": [
    "must_win = 2"
   ]
  },
  {
   "cell_type": "markdown",
   "metadata": {},
   "source": [
    "#### 5. Create two variables to store the number of rounds that the computer and the player have won. Call these variables `cpu_score` and `player_score`."
   ]
  },
  {
   "cell_type": "code",
   "execution_count": 2,
   "metadata": {},
   "outputs": [],
   "source": [
    "def play_game(lst):\n",
    "    return random.choice(lst)"
   ]
  },
  {
   "cell_type": "markdown",
   "metadata": {},
   "source": [
    "#### 6. Define a function that randomly returns one of the 3 gesture options.\n",
    "You will use this function to simulate the gesture choice of the computer. "
   ]
  },
  {
   "cell_type": "code",
   "execution_count": 6,
   "metadata": {},
   "outputs": [],
   "source": [
    "def play_game(lst):\n",
    "    return random.choice(lst)"
   ]
  },
  {
   "cell_type": "markdown",
   "metadata": {},
   "source": [
    "#### 7. Define a function that asks the player which is the gesture he or she wants to show: 'rock', 'paper' or 'scissors'.\n",
    "The player should only be allowed to choose one of the 3 gesture options. If the player's choice is not rock, paper or scissors, keep asking until it is."
   ]
  },
  {
   "cell_type": "code",
   "execution_count": 7,
   "metadata": {},
   "outputs": [],
   "source": [
    "def ask_for_choice():\n",
    "    choice = \"\"\n",
    "    while choice == \"\":\n",
    "        print (\"Your turn:\")\n",
    "        a = input()\n",
    "        if a in options:\n",
    "            choice = a\n",
    "    return choice"
   ]
  },
  {
   "cell_type": "markdown",
   "metadata": {},
   "source": [
    "#### 8. Define a function that checks who won a round. \n",
    "The function should return 0 if there is a tie, 1 if the computer wins and 2 if the player wins."
   ]
  },
  {
   "cell_type": "code",
   "execution_count": 8,
   "metadata": {},
   "outputs": [],
   "source": [
    "def combat(options):\n",
    "    machine_choice = play_game(options)\n",
    "    human_choice = ask_for_choice()\n",
    "    result = \"tie\"\n",
    "    if machine_choice == human_choice:\n",
    "        result = \"tie\"\n",
    "    elif machine_choice == 'stone':\n",
    "        if human_choice == 'paper':\n",
    "            result = \"human\"\n",
    "        else:\n",
    "            result = \"machine\"\n",
    "    elif machine_choice == 'paper':\n",
    "        if human_choice == 'scissors':\n",
    "            result = \"human\"\n",
    "        else:\n",
    "            result = \"machine\"\n",
    "    else:\n",
    "        if human_choice == 'stone':\n",
    "            result = \"human\"\n",
    "        else:\n",
    "            result = \"machine\"\n",
    "    return [result, machine_choice, human_choice]"
   ]
  },
  {
   "cell_type": "markdown",
   "metadata": {},
   "source": [
    "#### 9. Define a function that prints the choice of the computer, the choice of the player and a message that announces who won the current round. \n",
    "You should also use this function to update the variables that count the number of rounds that the computer and the player have won. The score of the winner increases by one point. If there is a tie, the score does not increase."
   ]
  },
  {
   "cell_type": "code",
   "execution_count": null,
   "metadata": {},
   "outputs": [],
   "source": []
  },
  {
   "cell_type": "markdown",
   "metadata": {},
   "source": [
    "#### 10. Now it's time to code the execution of the game using the functions and variables you defined above. \n",
    "\n",
    "First, create a loop structure that repeats while no player reaches the minimum score necessary to win and the number of rounds is less than the maximum number of rounds to play in a game.  \n",
    "\n",
    "Inside the loop, use the functions and variables above to create the execution of a round: ask for the player's choice, generate the random choice of the computer, show the round results, update the scores, etc. "
   ]
  },
  {
   "cell_type": "code",
   "execution_count": null,
   "metadata": {},
   "outputs": [],
   "source": []
  },
  {
   "cell_type": "markdown",
   "metadata": {},
   "source": [
    "#### 11. Print the winner of the game based on who won more rounds.\n",
    "Remember that the game might be tied. "
   ]
  },
  {
   "cell_type": "code",
   "execution_count": null,
   "metadata": {},
   "outputs": [],
   "source": [
    "def play_complete_game(options):\n",
    "    number_games = 0\n",
    "    results_list = []\n",
    "    wins_human = 0\n",
    "    wins_machine = 0\n",
    "    while (wins_human < 2) and (wins_machine < 2):\n",
    "        number_games += 1\n",
    "        start_combat = combat(options)\n",
    "        results_list.append(start_combat[0])\n",
    "        print (\"Game nº {number_games}: M:{choice_machine} - H:{choice_human}. Accumulated results: {acumulated_results}\".format(number_games = number_games, choice_machine = start_combat[1], choice_human = start_combat[2], acumulated_results = results_list))\n",
    "        if start_combat[0] == \"machine\":\n",
    "            wins_machine += 1\n",
    "        elif start_combat[0] == \"human\":\n",
    "            wins_human += 1\n",
    "    if wins_human > wins_machine:\n",
    "        winner = \"human\"\n",
    "    elif wins_human == wins_machine:\n",
    "        winner = \"no one\"\n",
    "    else:\n",
    "        winner = \"machine\"\n",
    "    return \"The game is finished, {winner} wins!\".format(winner = winner)\n",
    "\n",
    "print(play_complete_game(options))"
   ]
  },
  {
   "cell_type": "markdown",
   "metadata": {},
   "source": [
    "# Bonus: Rock, Paper, Scissors, Lizard & Spock\n",
    "![](images/rpsls.jpg)\n",
    "\n",
    "In this challenge, you need to improve the previous game by adding two new options. To know more about the rules of the improved version of rock, paper, scissors, check this [link](http://www.samkass.com/theories/RPSSL.html). \n",
    "\n",
    "In addition, you will also need to improve how the game interacts with the player: the number of rounds to play, which must be an odd number, will be requested to the user until a valid number is entered. Define a new function to make that request.\n",
    "\n",
    "**Hint**: Try to reuse the code that you already coded in the previous challenge. If your code is efficient, this bonus will only consist of simple modifications to the original game."
   ]
  },
  {
   "cell_type": "code",
   "execution_count": 21,
   "metadata": {},
   "outputs": [
    {
     "ename": "SyntaxError",
     "evalue": "invalid syntax (<ipython-input-21-c851b2942d5e>, line 33)",
     "output_type": "error",
     "traceback": [
      "\u001b[1;36m  File \u001b[1;32m\"<ipython-input-21-c851b2942d5e>\"\u001b[1;36m, line \u001b[1;32m33\u001b[0m\n\u001b[1;33m    elif machine_choice == 'paper':\u001b[0m\n\u001b[1;37m    ^\u001b[0m\n\u001b[1;31mSyntaxError\u001b[0m\u001b[1;31m:\u001b[0m invalid syntax\n"
     ]
    }
   ],
   "source": [
    "import random\n",
    "\n",
    "options = ['stone', 'paper', 'scissors', 'lizard', 'spock']\n",
    "\n",
    "max_games = 3\n",
    "\n",
    "must_win = 2\n",
    "\n",
    "def play_game(lst):\n",
    "    return random.choice(lst)\n",
    "\n",
    "\n",
    "def ask_for_choice():\n",
    "    choice = \"\"\n",
    "    while choice == \"\":\n",
    "        print (\"Your turn:\")\n",
    "        a = input()\n",
    "        if a in options:\n",
    "            choice = a\n",
    "    return choice\n",
    "\n",
    "def combat(options):\n",
    "    machine_choice = play_game(options)\n",
    "    human_choice = ask_for_choice()\n",
    "    result = \"tie\"\n",
    "    if machine_choice == human_choice:\n",
    "        result = \"tie\"\n",
    "    elif machine_choice == 'stone':\n",
    "        if human_choice == 'paper' or human_choice == 'spock':\n",
    "            result = \"human\"\n",
    "    else:\n",
    "            result = \"machine\"\n",
    "    elif machine_choice == 'paper':\n",
    "        if human_choice == 'scissors' or human_choice == 'lizard':\n",
    "            result = \"human\"\n",
    "        else:\n",
    "            result = \"machine\"\n",
    "        elif machine_choice == 'scissors':\n",
    "        if human_choice == 'stone' or human_choice == 'spock':\n",
    "            result = \"human\"\n",
    "        else:\n",
    "            result = \"machine\"\n",
    "elif machine_choice == 'lizard':\n",
    "        if human_choice == 'stone' or human_choice == \"scissors\":\n",
    "            result = \"human\"\n",
    "        else:\n",
    "            result = \"machine\"\n",
    "        else:\n",
    "        if human_choice == \"lizard\" or human_choice == \"paper\":\n",
    "            result = \"human\"\n",
    "        else:\n",
    "            result = \"machine\"\n",
    "return [result, machine_choice, human_choice]\n",
    "\n",
    "\n",
    "def ask_max_number_games():\n",
    "    max_number_games = 0\n",
    "    while max_number_games == 0:\n",
    "        print (\"How many games do you want to play:\")\n",
    "        a = input()\n",
    "        try:\n",
    "            max_number_games += int(a)\n",
    "        except ValueError:\n",
    "            pass\n",
    "    return max_number_games\n",
    "\n",
    "def play_complete_game(options):\n",
    "    max_number_games_game = ask_max_number_games()\n",
    "    number_games = 0\n",
    "    results_list = []\n",
    "    wins_human = 0\n",
    "    wins_machine = 0\n",
    "    while number_games < max_number_games_game:\n",
    "        number_games += 1\n",
    "        start_combat = combat(options)\n",
    "        results_list.append(start_combat[0])\n",
    "        print (\"Game nº {number_games}: M:{choice_machine} - H:{choice_human}. Accumulated results: {acumulated_results}\".format(number_games = number_games, choice_machine = start_combat[1], choice_human = start_combat[2], acumulated_results = results_list))\n",
    "        if start_combat[0] == \"machine\":\n",
    "            wins_machine += 1\n",
    "        elif start_combat[0] == \"human\":\n",
    "            wins_human += 1\n",
    "    if wins_human > wins_machine:\n",
    "        winner = \"human\"\n",
    "    elif wins_human == wins_machine:\n",
    "        winner = \"no one\"\n",
    "    else:\n",
    "        winner = \"machine\"\n",
    "    return \"The game is finished, {winner} wins!\".format(winner = winner)\n",
    "\n",
    "print(play_complete_game(options))"
   ]
  },
  {
   "cell_type": "code",
   "execution_count": null,
   "metadata": {},
   "outputs": [],
   "source": []
  },
  {
   "cell_type": "code",
   "execution_count": null,
   "metadata": {},
   "outputs": [],
   "source": []
  },
  {
   "cell_type": "code",
   "execution_count": null,
   "metadata": {},
   "outputs": [],
   "source": []
  },
  {
   "cell_type": "code",
   "execution_count": null,
   "metadata": {},
   "outputs": [],
   "source": []
  }
 ],
 "metadata": {
  "kernelspec": {
   "display_name": "Python 3",
   "language": "python",
   "name": "python3"
  },
  "language_info": {
   "codemirror_mode": {
    "name": "ipython",
    "version": 3
   },
   "file_extension": ".py",
   "mimetype": "text/x-python",
   "name": "python",
   "nbconvert_exporter": "python",
   "pygments_lexer": "ipython3",
   "version": "3.8.3"
  }
 },
 "nbformat": 4,
 "nbformat_minor": 2
}
