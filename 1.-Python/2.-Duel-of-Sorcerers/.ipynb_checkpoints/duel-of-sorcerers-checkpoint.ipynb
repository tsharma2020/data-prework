{
 "cells": [
  {
   "cell_type": "markdown",
   "metadata": {},
   "source": [
    "<img src=\"https://bit.ly/2VnXWr2\" width=\"100\" align=\"left\">"
   ]
  },
  {
   "cell_type": "markdown",
   "metadata": {},
   "source": [
    "# Duel of Sorcerers\n",
    "You are witnessing an epic battle between two powerful sorcerers: Gandalf and Saruman. Each sorcerer has 10 spells of variable power in their mind and they are going to throw them one after the other. The winner of the duel will be the one who wins more of those clashes between spells. Spells are represented as a list of 10 integers whose value equals the power of the spell.\n",
    "```\n",
    "gandalf = [10, 11, 13, 30, 22, 11, 10, 33, 22, 22]\n",
    "saruman = [23, 66, 12, 43, 12, 10, 44, 23, 12, 17]\n",
    "```\n",
    "For example:\n",
    "- The first clash is won by Saruman: 10 against 23.\n",
    "- The second clash is won by Saruman: 11 against 66.\n",
    "- ...\n",
    "\n",
    "You will create two variables, one for each sorcerer, where the sum of clashes won will be stored. Depending on which variable is greater at the end of the duel, you will show one of the following three results on the screen:\n",
    "* Gandalf wins\n",
    "* Saruman wins\n",
    "* Tie\n",
    "\n",
    "<img src=\"images/content_lightning_bolt_big.jpg\" width=\"400\">"
   ]
  },
  {
   "cell_type": "markdown",
   "metadata": {},
   "source": [
    "## Tools\n",
    "You don't necessarily need to use all the tools. Maybe you opt to use some of them or completely different ones, they are given to help you shape the exercise. Programming exercises can be solved in many different ways.\n",
    "\n",
    "1. Data structures: **lists, dictionaries**\n",
    "2. Loop: **for loop**\n",
    "3. Conditional statements: **if-elif-else**\n",
    "4. Functions: **range(), len(), print()**\n",
    "\n",
    "## Tasks\n",
    "\n",
    "#### 1. Create two variables called `gandalf` and `saruman` and assign them the spell power lists. Create a variable called `spells` to store the number of spells that the sorcerers cast. "
   ]
  },
  {
   "cell_type": "code",
   "execution_count": 13,
   "metadata": {},
   "outputs": [],
   "source": [
    "gandalf = [10, 11, 13, 30, 22, 11, 10, 33, 22, 22]\n",
    "saruman = [23, 66, 12, 43, 12, 10, 44, 23, 12, 17]\n",
    "gandalf_wins=0\n",
    "saruman_wins=0"
   ]
  },
  {
   "cell_type": "markdown",
   "metadata": {},
   "source": [
    "#### 2. Create two variables called `gandalf_wins` and `saruman_wins`. Set both of them to 0. \n",
    "You will use these variables to count the number of clashes each sorcerer wins. "
   ]
  },
  {
   "cell_type": "code",
   "execution_count": 20,
   "metadata": {},
   "outputs": [],
   "source": [
    "for spells in zip(saruman, gandalf):\n",
    "    gandalf_spell_power = spells[0]\n",
    "    saruman_spell_power = spells[1]\n",
    "    if gandalf_spell_power>saruman_spell_power:\n",
    "        gandalf_wins += 1\n",
    "    elif saruman_spell_power>gandalf_spell_power:\n",
    "        saruman_wins += 1\n",
    "    elif gandalf_spell_power == saruman_spell_power: \n",
    "            gandalf_wins += 1\n",
    "            saruman_wins += 1   \n",
    "        \n",
    "    \n",
    "\n"
   ]
  },
  {
   "cell_type": "markdown",
   "metadata": {},
   "source": [
    "#### 3. Using the lists of spells of both sorcerers, update variables `gandalf_wins` and `saruman_wins` to count the number of times each sorcerer wins a clash. "
   ]
  },
  {
   "cell_type": "code",
   "execution_count": null,
   "metadata": {},
   "outputs": [],
   "source": [
    "    "
   ]
  },
  {
   "cell_type": "markdown",
   "metadata": {},
   "source": [
    "#### 4. Who won the battle?\n",
    "Print `Gandalf wins`, `Saruman wins` or `Tie` depending on the result. "
   ]
  },
  {
   "cell_type": "code",
   "execution_count": 12,
   "metadata": {},
   "outputs": [
    {
     "name": "stdout",
     "output_type": "stream",
     "text": [
      "Total gandalf wins: 8\n",
      "Total saruman wins: 12\n"
     ]
    }
   ],
   "source": [
    "print(\"Total gandalf wins:\", gandalf_wins)\n",
    "print(\"Total saruman wins:\", saruman_wins)"
   ]
  },
  {
   "cell_type": "markdown",
   "metadata": {},
   "source": [
    "## Bonus\n",
    "\n",
    "In this bonus challenge, you'll need to check the winner of the battle but this time, a sorcerer wins if he succeeds in winning 3 spell clashes in a row.\n",
    "\n",
    "Also, the spells now have a name and there is a dictionary that associates that name to a power.\n",
    "\n",
    "```\n",
    "POWER = {\n",
    "    'Fireball': 50, \n",
    "    'Lightning bolt': 40, \n",
    "    'Magic arrow': 10, \n",
    "    'Black Tentacles': 25, \n",
    "    'Contagion': 45\n",
    "}\n",
    "\n",
    "gandalf = ['Fireball', 'Lightning bolt', 'Lightning bolt', 'Magic arrow', 'Fireball', \n",
    "           'Magic arrow', 'Lightning bolt', 'Fireball', 'Fireball', 'Fireball']\n",
    "saruman = ['Contagion', 'Contagion', 'Black Tentacles', 'Fireball', 'Black Tentacles', \n",
    "           'Lightning bolt', 'Magic arrow', 'Contagion', 'Magic arrow', 'Magic arrow']\n",
    "```\n",
    "\n",
    "#### 1. Create variables `POWER`, `gandalf` and `saruman` as seen above. Create a variable called `spells` to store the number of spells that the sorcerers cast. "
   ]
  },
  {
   "cell_type": "code",
   "execution_count": null,
   "metadata": {},
   "outputs": [],
   "source": []
  },
  {
   "cell_type": "markdown",
   "metadata": {},
   "source": [
    "#### 2. Create two variables called `gandalf_wins` and `saruman_wins`. Set both of them to 0. "
   ]
  },
  {
   "cell_type": "code",
   "execution_count": null,
   "metadata": {},
   "outputs": [],
   "source": []
  },
  {
   "cell_type": "markdown",
   "metadata": {},
   "source": [
    "#### 3. Create two variables called `gandalf_power` and `saruman_power` to store the list of spell powers of each sorcerer."
   ]
  },
  {
   "cell_type": "code",
   "execution_count": null,
   "metadata": {},
   "outputs": [],
   "source": []
  },
  {
   "cell_type": "markdown",
   "metadata": {},
   "source": [
    "#### 4. The battle starts! Using the variables you've created above, code the execution of spell clashes. Remember that a sorcerer wins if he succeeds in winning 3 spell clashes in a row. \n",
    "If a clash ends up in a tie, the counter of wins in a row is not restarted to 0. Remember to print who is the winner of the battle. "
   ]
  },
  {
   "cell_type": "code",
   "execution_count": 3,
   "metadata": {},
   "outputs": [
    {
     "name": "stdout",
     "output_type": "stream",
     "text": [
      "The winner is Gandalf!\n"
     ]
    }
   ],
   "source": [
    "POWER = {\n",
    "    'Fireball': 50, \n",
    "    'Lightning bolt': 40, \n",
    "    'Magic arrow': 10, \n",
    "    'Black Tentacles': 25, \n",
    "    'Contagion': 45\n",
    "}\n",
    "\n",
    "gandalf = ['Fireball', 'Lightning bolt', 'Lightning bolt', 'Magic arrow', 'Fireball', 'Magic arrow', 'Lightning bolt', 'Fireball', 'Fireball', 'Fireball']\n",
    "saruman = ['Contagion', 'Contagion', 'Black Tentacles', 'Fireball', 'Black Tentacles', 'Lightning bolt', 'Magic arrow', 'Contagion', 'Magic arrow', 'Magic arrow']\n",
    "spells=10\n",
    "\n",
    "gandalf_wins=0\n",
    "saruman_wins=0\n",
    "winner = \"\"\n",
    "\n",
    "for gandalf_spell, saruman_spell in zip(gandalf,saruman): \n",
    "    if POWER[gandalf_spell] > POWER[saruman_spell]: \n",
    "        gandalf_wins+=1 \n",
    "    elif POWER[saruman_spell] > POWER[gandalf_spell]: \n",
    "        saruman_wins+=1 \n",
    "\n",
    "    if gandalf_wins==3:\n",
    "        winner=\"Gandalf\"\n",
    "        break\n",
    "    elif saruman_wins==3:\n",
    "        winner=\"Saruman\"\n",
    "        break\n",
    "\n",
    "if gandalf_wins < 3 and saruman_wins < 3:\n",
    "    print(\"Tie.\")\n",
    "else:\n",
    "    print(f\"The winner is {winner}!\")"
   ]
  },
  {
   "cell_type": "markdown",
   "metadata": {},
   "source": [
    "#### 5. Find the average spell power of Gandalf and Saruman. "
   ]
  },
  {
   "cell_type": "code",
   "execution_count": 45,
   "metadata": {},
   "outputs": [
    {
     "name": "stdout",
     "output_type": "stream",
     "text": [
      "Gandalf average power is 45.0\n",
      "Saruman average power is 45.0\n"
     ]
    }
   ],
   "source": [
    "gandalf = ['Fireball', 'Lightning bolt', 'Lightning bolt', 'Magic arrow', 'Fireball', \n",
    "               'Magic arrow', 'Lightning bolt', 'Fireball', 'Magic arrow', 'Fireball'],\n",
    "saruman = ['Contagion', 'Contagion', 'Black Tentacles', 'Fireball', 'Black Tentacles', \n",
    "               'Lightning bolt', 'Magic arrow', 'Contagion', 'Magic arrow', 'Magic arrow'],\n",
    "    \n",
    "gandalf_spell = 0\n",
    "saruman_spell = 0\n",
    "gandalf_power= []\n",
    "saruman_power = []\n",
    "    \n",
    "for gandalf_spell in gandalf:\n",
    "    if gandalf_spell == 'Fireball':\n",
    "        gandalf_spell = 50\n",
    "        gandalf_power.append(gandalf_spell)\n",
    "    elif gandalf_spell == 'Lightning bolt':\n",
    "        gandalf_spell = 40\n",
    "        gandalf_power.append(gandalf_spell)\n",
    "      \n",
    "    elif gandalf_spell == 'Magic arrow':\n",
    "        gandalf_spell = 10\n",
    "        gandalf_power.append(gandalf_spell)\n",
    "            \n",
    "    elif gandalf_spell == 'Black Tentacles':\n",
    "        gandalf_spell = 25\n",
    "        gandalf_power.append(gandalf_spell)\n",
    "            \n",
    "    else:\n",
    "        gandalf_spell = 45\n",
    "        gandalf_power.append(gandalf_spell)\n",
    "    \n",
    "      \n",
    "    for saruman_spell in saruman:\n",
    "        \n",
    "        if saruman_spell == 'Fireball':\n",
    "            saruman_spell = 50\n",
    "            saruman_power.append(saruman_spell)\n",
    "            \n",
    "        elif saruman_spell == 'Lightning bolt':\n",
    "            saruman_spell = 40\n",
    "            saruman_power.append(saruman_spell)\n",
    "        elif saruman_spell == 'Magic arrow':\n",
    "            saruman_spell = 10\n",
    "            saruman_power.append(saruman_spell)\n",
    "        elif saruman_spell == 'Black Tentacles':\n",
    "            saruman_spell = 25\n",
    "            saruman_power.append(saruman_spell)\n",
    "        else:\n",
    "            saruman_spell = 45\n",
    "            saruman_power.append(saruman_spell)\n",
    "            \n",
    "          \n",
    " \n",
    "    \n",
    "    \n",
    "    \n",
    "    avg_gandalf = sum(gandalf_power)/len(gandalf_power)\n",
    "   \n",
    "    avg_saruman = sum(saruman_power)/len(saruman_power)\n",
    "    \n",
    "    print (\"Gandalf average power is\" , str(avg_gandalf))\n",
    "    \n",
    "    print (\"Saruman average power is\" , str(avg_saruman))"
   ]
  },
  {
   "cell_type": "markdown",
   "metadata": {},
   "source": [
    "#### 6. Find the standard deviation of the spell power of Gandalf and Saruman. "
   ]
  },
  {
   "cell_type": "code",
   "execution_count": 102,
   "metadata": {},
   "outputs": [
    {
     "name": "stdout",
     "output_type": "stream",
     "text": [
      "The standard deviation of spell power for Gandalf is: 0.0\n",
      "The standard deviation of spell power for Saruman is: 0.0\n"
     ]
    }
   ],
   "source": [
    "from numpy import std\n",
    "spell_powers_gandalf = []\n",
    "spell_powers_saruman = []\n",
    "sum_gandalf = 0\n",
    "sum_saruman = 0\n",
    "number_of_strikes = len(gandalf) & len(saruman)\n",
    "for i in range(number_of_strikes):\n",
    "    sum_gandalf += POWER[gandalf[i]]\n",
    "    sum_saruman += POWER[saruman[i]]\n",
    "spell_powers_gandalf.append(POWER[gandalf[i]])\n",
    "spell_powers_saruman.append(POWER[saruman[i]])\n",
    "std_gandalf = std(spell_powers_gandalf)\n",
    "std_saruman = std(spell_powers_saruman)\n",
    "\n",
    "print(\"The standard deviation of spell power for Gandalf is:\", std_gandalf)\n",
    "print(\"The standard deviation of spell power for Saruman is:\", std_saruman)\n"
   ]
  },
  {
   "cell_type": "code",
   "execution_count": null,
   "metadata": {},
   "outputs": [],
   "source": []
  },
  {
   "cell_type": "code",
   "execution_count": null,
   "metadata": {},
   "outputs": [],
   "source": []
  },
  {
   "cell_type": "code",
   "execution_count": null,
   "metadata": {},
   "outputs": [],
   "source": []
  },
  {
   "cell_type": "code",
   "execution_count": null,
   "metadata": {},
   "outputs": [],
   "source": []
  }
 ],
 "metadata": {
  "kernelspec": {
   "display_name": "Python 3",
   "language": "python",
   "name": "python3"
  },
  "language_info": {
   "codemirror_mode": {
    "name": "ipython",
    "version": 3
   },
   "file_extension": ".py",
   "mimetype": "text/x-python",
   "name": "python",
   "nbconvert_exporter": "python",
   "pygments_lexer": "ipython3",
   "version": "3.8.3"
  }
 },
 "nbformat": 4,
 "nbformat_minor": 2
}
